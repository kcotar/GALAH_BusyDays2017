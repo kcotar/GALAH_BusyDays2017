{
 "cells": [
  {
   "cell_type": "markdown",
   "metadata": {},
   "source": [
    "# Inspect_GALAH: A tool to for GALAH spectra as well as SME/Cannon output\n",
    "\n",
    "Author: Sven Buder"
   ]
  },
  {
   "cell_type": "code",
   "execution_count": 108,
   "metadata": {
    "collapsed": true
   },
   "outputs": [],
   "source": [
    "# Compatibility with Python 3\n",
    "#from __future__ import (absolute_import, division, print_function)\n",
    "\n",
    "# try:\n",
    "#     %matplotlib inline\n",
    "#     %config InlineBackend.figure_format='retina'\n",
    "# except:\n",
    "#     pass\n",
    "\n",
    "# # Basic packages\n",
    "# import numpy as np\n",
    "# import os\n",
    "# import sys\n",
    "\n",
    "# Packages to work with FITS and (IDL) SME.out files\n",
    "#import astropy.io.fits as pyfits\n",
    "#import astropy.table as table\n",
    "#from scipy.io.idl import readsav\n",
    "\n",
    "# Matplotlib and associated packages for plotting\n",
    "#import matplotlib.pyplot as plt\n",
    "#params = {'text.usetex': True, 'text.latex.preamble': [r'\\usepackage{upgreek}', r'\\usepackage{amsmath}'],'font.family' : 'lmodern','font.size' : 11}   \n",
    "#plt.rcParams.update(params)"
   ]
  },
  {
   "cell_type": "markdown",
   "metadata": {},
   "source": [
    "First be sure you are in the right directory and where your spectra and SME/Cannon files are:"
   ]
  },
  {
   "cell_type": "code",
   "execution_count": 109,
   "metadata": {},
   "outputs": [
    {
     "name": "stdout",
     "output_type": "stream",
     "text": [
      "Your working directory is /Users/buder/GitHub/GALAH_BusyDays2017\n"
     ]
    }
   ],
   "source": [
    "print('Your working directory is '+os.getcwd())"
   ]
  },
  {
   "cell_type": "markdown",
   "metadata": {},
   "source": [
    "Now we can start with the major routines to save the spectra and SME/Cannon files in a dictionary strucuture: "
   ]
  }
 ],
 "metadata": {
  "kernelspec": {
   "display_name": "Python [default]",
   "language": "python",
   "name": "python2"
  },
  "language_info": {
   "codemirror_mode": {
    "name": "ipython",
    "version": 2
   },
   "file_extension": ".py",
   "mimetype": "text/x-python",
   "name": "python",
   "nbconvert_exporter": "python",
   "pygments_lexer": "ipython2",
   "version": "2.7.13"
  }
 },
 "nbformat": 4,
 "nbformat_minor": 2
}
